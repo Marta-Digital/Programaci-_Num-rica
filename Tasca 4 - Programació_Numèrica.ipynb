{
 "cells": [
  {
   "cell_type": "markdown",
   "metadata": {},
   "source": [
    "![logo](banner.jpg)"
   ]
  },
  {
   "cell_type": "markdown",
   "metadata": {},
   "source": [
    "<h1><center><span style=\"color:blue\">TASCA 4 - IT Academy</span></center></h1>\n",
    "<h2><center><span style=\"color:blue\">Curs Data Science</span></center></h2>"
   ]
  },
  {
   "cell_type": "markdown",
   "metadata": {},
   "source": [
    "### <span style=\"color:black\">Exercici 1.</span>"
   ]
  },
  {
   "cell_type": "markdown",
   "metadata": {},
   "source": [
    "Crea una funció que donat un Array d’una dimensió, et faci un resum estadístic bàsic de les dades. Si detecta que l’array té més d’una dimensió, ha de mostrar un missatge d’error: <span style=\"color:blue\">__[X] Fet__</span>"
   ]
  },
  {
   "cell_type": "code",
   "execution_count": 2,
   "metadata": {},
   "outputs": [],
   "source": [
    "import numpy as np\n",
    "from numpy import random"
   ]
  },
  {
   "cell_type": "code",
   "execution_count": 35,
   "metadata": {},
   "outputs": [],
   "source": [
    "a=np.array([21,24,29,43,38,27,31,27,27,26,34,23,39])\n",
    "b=np.array([(12,85,45), (59,56,25)])"
   ]
  },
  {
   "cell_type": "code",
   "execution_count": 36,
   "metadata": {},
   "outputs": [],
   "source": [
    "def estadistica (X):\n",
    "    if X.ndim > 1:\n",
    "        raise TypeError('Error. El Array tiene más de una dimensión')\n",
    "    else:\n",
    "        print(\"El coeficiente de correlación es\", np.corrcoef(X))\n",
    "        print(\"La media es\", np.mean(X))\n",
    "        print(\"La mediana es\", np.median(X))\n",
    "        print(\"El promedio es\", np.average(X))\n",
    "        print(\"La varianza es\", np.var(X))"
   ]
  },
  {
   "cell_type": "code",
   "execution_count": 37,
   "metadata": {},
   "outputs": [
    {
     "name": "stdout",
     "output_type": "stream",
     "text": [
      "El coeficiente de correlación es 1.0\n",
      "La media es 29.923076923076923\n",
      "La mediana es 27.0\n",
      "El promedio es 29.923076923076923\n",
      "La varianza es 41.6094674556213\n"
     ]
    }
   ],
   "source": [
    "estadistica(a)"
   ]
  },
  {
   "cell_type": "code",
   "execution_count": 38,
   "metadata": {},
   "outputs": [
    {
     "ename": "TypeError",
     "evalue": "Error. El Array tiene más de una dimensión",
     "output_type": "error",
     "traceback": [
      "\u001b[1;31m---------------------------------------------------------------------------\u001b[0m",
      "\u001b[1;31mTypeError\u001b[0m                                 Traceback (most recent call last)",
      "\u001b[1;32m<ipython-input-38-c451affe096a>\u001b[0m in \u001b[0;36m<module>\u001b[1;34m\u001b[0m\n\u001b[1;32m----> 1\u001b[1;33m \u001b[0mestadistica\u001b[0m\u001b[1;33m(\u001b[0m\u001b[0mb\u001b[0m\u001b[1;33m)\u001b[0m\u001b[1;33m\u001b[0m\u001b[1;33m\u001b[0m\u001b[0m\n\u001b[0m",
      "\u001b[1;32m<ipython-input-36-1619d47d2469>\u001b[0m in \u001b[0;36mestadistica\u001b[1;34m(X)\u001b[0m\n\u001b[0;32m      1\u001b[0m \u001b[1;32mdef\u001b[0m \u001b[0mestadistica\u001b[0m \u001b[1;33m(\u001b[0m\u001b[0mX\u001b[0m\u001b[1;33m)\u001b[0m\u001b[1;33m:\u001b[0m\u001b[1;33m\u001b[0m\u001b[1;33m\u001b[0m\u001b[0m\n\u001b[0;32m      2\u001b[0m     \u001b[1;32mif\u001b[0m \u001b[0mX\u001b[0m\u001b[1;33m.\u001b[0m\u001b[0mndim\u001b[0m \u001b[1;33m>\u001b[0m \u001b[1;36m1\u001b[0m\u001b[1;33m:\u001b[0m\u001b[1;33m\u001b[0m\u001b[1;33m\u001b[0m\u001b[0m\n\u001b[1;32m----> 3\u001b[1;33m         \u001b[1;32mraise\u001b[0m \u001b[0mTypeError\u001b[0m\u001b[1;33m(\u001b[0m\u001b[1;34m'Error. El Array tiene más de una dimensión'\u001b[0m\u001b[1;33m)\u001b[0m\u001b[1;33m\u001b[0m\u001b[1;33m\u001b[0m\u001b[0m\n\u001b[0m\u001b[0;32m      4\u001b[0m     \u001b[1;32melse\u001b[0m\u001b[1;33m:\u001b[0m\u001b[1;33m\u001b[0m\u001b[1;33m\u001b[0m\u001b[0m\n\u001b[0;32m      5\u001b[0m         \u001b[0mprint\u001b[0m\u001b[1;33m(\u001b[0m\u001b[1;34m\"El coeficiente de correlación es\"\u001b[0m\u001b[1;33m,\u001b[0m \u001b[0mnp\u001b[0m\u001b[1;33m.\u001b[0m\u001b[0mcorrcoef\u001b[0m\u001b[1;33m(\u001b[0m\u001b[0mX\u001b[0m\u001b[1;33m)\u001b[0m\u001b[1;33m)\u001b[0m\u001b[1;33m\u001b[0m\u001b[1;33m\u001b[0m\u001b[0m\n",
      "\u001b[1;31mTypeError\u001b[0m: Error. El Array tiene más de una dimensión"
     ]
    }
   ],
   "source": [
    "estadistica(b)"
   ]
  },
  {
   "cell_type": "markdown",
   "metadata": {},
   "source": [
    "### <span style=\"color:black\">Exercici 2.</span>"
   ]
  },
  {
   "cell_type": "markdown",
   "metadata": {},
   "source": [
    "Crea una funció que et generi un quadrat NxN de nombres aleatoris entre el 0 i el 100: <span style=\"color:blue\">__[X] Fet__</span>"
   ]
  },
  {
   "cell_type": "code",
   "execution_count": 40,
   "metadata": {},
   "outputs": [
    {
     "data": {
      "text/plain": [
       "array([[32, 33, 58, 78, 39],\n",
       "       [45, 40, 37, 21, 23],\n",
       "       [83,  4, 60, 23, 16],\n",
       "       [62, 83, 29, 83, 24],\n",
       "       [50, 52, 95, 29, 80]])"
      ]
     },
     "execution_count": 40,
     "metadata": {},
     "output_type": "execute_result"
    }
   ],
   "source": [
    "np.random.randint(0,100,(5,5))"
   ]
  },
  {
   "cell_type": "markdown",
   "metadata": {},
   "source": [
    "### <span style=\"color:black\">Exercici 3.</span>"
   ]
  },
  {
   "cell_type": "markdown",
   "metadata": {},
   "source": [
    "Crea una funció que donada una taula de dues dimensions, et calculi els totals per fila i els totals per columna: <span style=\"color:blue\">__[X] Fet__</span>"
   ]
  },
  {
   "cell_type": "code",
   "execution_count": 41,
   "metadata": {},
   "outputs": [],
   "source": [
    "a=np.array([(1,2,3,4,5),(6,7,8,9,10)])"
   ]
  },
  {
   "cell_type": "code",
   "execution_count": 44,
   "metadata": {},
   "outputs": [],
   "source": [
    "def dimensiones (i):\n",
    "    print(\"Los totales por columnna son:\",np.add(i[0],a[1]))\n",
    "    print(\"El total de la fila 1 es\", np.sum(i[0]))\n",
    "    print(\"El total de la fila 2 es\", np.sum(i[1]))"
   ]
  },
  {
   "cell_type": "code",
   "execution_count": 45,
   "metadata": {},
   "outputs": [
    {
     "name": "stdout",
     "output_type": "stream",
     "text": [
      "Los totales por columnna son: [ 7  9 11 13 15]\n",
      "El total de la fila 1 es 15\n",
      "El total de la fila 2 es 40\n"
     ]
    }
   ],
   "source": [
    "dimensiones(a)"
   ]
  },
  {
   "cell_type": "markdown",
   "metadata": {},
   "source": [
    "### <span style=\"color:black\">Exercici 4.</span>"
   ]
  },
  {
   "cell_type": "markdown",
   "metadata": {},
   "source": [
    "Implementa manualment una funció que calculi el coeficient de correlació. Informa’t-en sobre els seus usos i interpretació: <span style=\"color:blue\">__[X] Fet__</span>"
   ]
  },
  {
   "cell_type": "code",
   "execution_count": 4,
   "metadata": {},
   "outputs": [
    {
     "name": "stdout",
     "output_type": "stream",
     "text": [
      "[ 0.97093159 -0.26599886 -0.49650081 -0.3402461   0.62294154 -0.1083436\n",
      " -1.40970544  1.89755688 -0.4158389   0.80408772]\n",
      "[-0.93200615 -0.01701264  0.27005137 -1.03552137 -0.32896643  0.14242837\n",
      "  0.8273752   1.47362606 -0.00785862  0.51371108]\n"
     ]
    }
   ],
   "source": [
    "X = np.random.randn(10)\n",
    "Y = np.random.randn(10)\n",
    "print(X)\n",
    "print(Y)"
   ]
  },
  {
   "cell_type": "code",
   "execution_count": 5,
   "metadata": {},
   "outputs": [
    {
     "name": "stdout",
     "output_type": "stream",
     "text": [
      "[[1.         0.15970726]\n",
      " [0.15970726 1.        ]]\n"
     ]
    }
   ],
   "source": [
    "C = np.corrcoef(X,Y)\n",
    "print(C)"
   ]
  }
 ],
 "metadata": {
  "kernelspec": {
   "display_name": "Python 3",
   "language": "python",
   "name": "python3"
  },
  "language_info": {
   "codemirror_mode": {
    "name": "ipython",
    "version": 3
   },
   "file_extension": ".py",
   "mimetype": "text/x-python",
   "name": "python",
   "nbconvert_exporter": "python",
   "pygments_lexer": "ipython3",
   "version": "3.7.4"
  }
 },
 "nbformat": 4,
 "nbformat_minor": 4
}
